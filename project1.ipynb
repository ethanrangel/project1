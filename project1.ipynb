{
 "cells": [
  {
   "cell_type": "markdown",
   "id": "9dd9841e-8365-4492-b92f-f92ed91bbd2d",
   "metadata": {},
   "source": [
    "## **Introduction: Billionaire Wealth Data Analysis**\n",
    "\n",
    "Regardless of whether you think money is the root of all evil, it impacts each and every one of us every day. The chances of becoming extremely wealthy can depend on hard work, fortune, and luck. In this data analysis, I will assess patterns among a few thousand individuals who were fortunate enough to amass wealth capable of supporting generations. This analysis explores the **patterns in billionaire wealth** to identify potential factors that contribute to financial success, focusing on industry and country of origin.  \n",
    "By analyzing the data, we aim to answer the following questions:  \n",
    "\n",
    "1. What **industries** produce the most self-made billionaires?  \n",
    "2. Do **certain countries** have more self-made vs. inherited billionaires?  \n"
   ]
  },
  {
   "attachments": {},
   "cell_type": "markdown",
   "id": "0d12c07e-af03-47d6-ac0f-ff6f0c38b1a0",
   "metadata": {},
   "source": [
    " \n",
    "## **Dataset Overview**\n",
    "This dataset, sourced from Kaggle, is owned by Nidula Elgiriyewithana. It contains information on the **top billionaires in the world in 2023**, including their **wealth, industries, country of origin, and whether they are self-made or inherited their wealth**.  \n",
    "\n",
    "**Dataset Source**: [Billionaires Statistics Dataset - Kaggle](https://www.kaggle.com/datasets/nelgiriyewithana/billionaires-statistics-dataset)  \n",
    "\n",
    "The dataset includes over 30 features. Some of the key features I will focus on are:\n",
    "\n",
    "- **category**: The category or industry in which the billionaire's business operates.  \n",
    "- **age**: The age of the billionaire.  \n",
    "- **country**: The country in which the billionaire resides.  \n",
    "- **industries**: The industries associated with the billionaire's business interests.  \n",
    "- **countryOfCitizenship**: The country of citizenship of the billionaire.  \n",
    "- **selfMade**: Indicates whether the billionaire is self-made (True) or inherited wealth (False).  \n",
    "- **status**: \"D\" represents self-made billionaires (Founders/Entrepreneurs), while \"U\" indicates inherited or unearned wealth.  \n",
    "- **gender**: The gender of the billionaire.  \n",
    "- **cpi_country**: Consumer Price Index (CPI) for the billionaire's country.  \n",
    "- **cpi_change_country**: CPI change for the billionaire's country.  \n",
    "- **gross_tertiary_education_enrollment**: Enrollment in tertiary education in the billionaire's country.  \n",
    "- **population_country**: Population of the billionaire's country.  \n"
   ]
  },
  {
   "cell_type": "markdown",
   "id": "0a587cc9-e226-4b9e-b320-ecda1bb3ffbf",
   "metadata": {},
   "source": [
    "## **Importing the Data**\n",
    "- First, we will import libraries necessary for working with our data, such as pandas and numpy.\n",
    "- We will also import plotting libraries like seaborn and matplotlib."
   ]
  },
  {
   "cell_type": "code",
   "execution_count": 358,
   "id": "a8280090-786d-4abe-9a12-ec3ec6f136a9",
   "metadata": {},
   "outputs": [],
   "source": [
    "\n",
    "import seaborn as sns\n",
    "import matplotlib.pyplot as plt\n",
    "import numpy as np\n",
    "import pandas as pd\n",
    "\n",
    "df = pd.read_csv(\"Billionaires Statistics Dataset.csv\")"
   ]
  },
  {
   "cell_type": "code",
   "execution_count": 360,
   "id": "e82d9073-87df-49b5-a60d-77acc5550808",
   "metadata": {},
   "outputs": [
    {
     "data": {
      "text/html": [
       "<div>\n",
       "<style scoped>\n",
       "    .dataframe tbody tr th:only-of-type {\n",
       "        vertical-align: middle;\n",
       "    }\n",
       "\n",
       "    .dataframe tbody tr th {\n",
       "        vertical-align: top;\n",
       "    }\n",
       "\n",
       "    .dataframe thead th {\n",
       "        text-align: right;\n",
       "    }\n",
       "</style>\n",
       "<table border=\"1\" class=\"dataframe\">\n",
       "  <thead>\n",
       "    <tr style=\"text-align: right;\">\n",
       "      <th></th>\n",
       "      <th>rank</th>\n",
       "      <th>finalWorth</th>\n",
       "      <th>category</th>\n",
       "      <th>personName</th>\n",
       "      <th>age</th>\n",
       "      <th>country</th>\n",
       "      <th>city</th>\n",
       "      <th>source</th>\n",
       "      <th>industries</th>\n",
       "      <th>countryOfCitizenship</th>\n",
       "      <th>...</th>\n",
       "      <th>cpi_change_country</th>\n",
       "      <th>gdp_country</th>\n",
       "      <th>gross_tertiary_education_enrollment</th>\n",
       "      <th>gross_primary_education_enrollment_country</th>\n",
       "      <th>life_expectancy_country</th>\n",
       "      <th>tax_revenue_country_country</th>\n",
       "      <th>total_tax_rate_country</th>\n",
       "      <th>population_country</th>\n",
       "      <th>latitude_country</th>\n",
       "      <th>longitude_country</th>\n",
       "    </tr>\n",
       "  </thead>\n",
       "  <tbody>\n",
       "    <tr>\n",
       "      <th>0</th>\n",
       "      <td>1</td>\n",
       "      <td>211000</td>\n",
       "      <td>Fashion &amp; Retail</td>\n",
       "      <td>Bernard Arnault &amp; family</td>\n",
       "      <td>74.0</td>\n",
       "      <td>France</td>\n",
       "      <td>Paris</td>\n",
       "      <td>LVMH</td>\n",
       "      <td>Fashion &amp; Retail</td>\n",
       "      <td>France</td>\n",
       "      <td>...</td>\n",
       "      <td>1.1</td>\n",
       "      <td>$2,715,518,274,227</td>\n",
       "      <td>65.6</td>\n",
       "      <td>102.5</td>\n",
       "      <td>82.5</td>\n",
       "      <td>24.2</td>\n",
       "      <td>60.7</td>\n",
       "      <td>67059887.0</td>\n",
       "      <td>46.227638</td>\n",
       "      <td>2.213749</td>\n",
       "    </tr>\n",
       "    <tr>\n",
       "      <th>1</th>\n",
       "      <td>2</td>\n",
       "      <td>180000</td>\n",
       "      <td>Automotive</td>\n",
       "      <td>Elon Musk</td>\n",
       "      <td>51.0</td>\n",
       "      <td>United States</td>\n",
       "      <td>Austin</td>\n",
       "      <td>Tesla, SpaceX</td>\n",
       "      <td>Automotive</td>\n",
       "      <td>United States</td>\n",
       "      <td>...</td>\n",
       "      <td>7.5</td>\n",
       "      <td>$21,427,700,000,000</td>\n",
       "      <td>88.2</td>\n",
       "      <td>101.8</td>\n",
       "      <td>78.5</td>\n",
       "      <td>9.6</td>\n",
       "      <td>36.6</td>\n",
       "      <td>328239523.0</td>\n",
       "      <td>37.090240</td>\n",
       "      <td>-95.712891</td>\n",
       "    </tr>\n",
       "    <tr>\n",
       "      <th>2</th>\n",
       "      <td>3</td>\n",
       "      <td>114000</td>\n",
       "      <td>Technology</td>\n",
       "      <td>Jeff Bezos</td>\n",
       "      <td>59.0</td>\n",
       "      <td>United States</td>\n",
       "      <td>Medina</td>\n",
       "      <td>Amazon</td>\n",
       "      <td>Technology</td>\n",
       "      <td>United States</td>\n",
       "      <td>...</td>\n",
       "      <td>7.5</td>\n",
       "      <td>$21,427,700,000,000</td>\n",
       "      <td>88.2</td>\n",
       "      <td>101.8</td>\n",
       "      <td>78.5</td>\n",
       "      <td>9.6</td>\n",
       "      <td>36.6</td>\n",
       "      <td>328239523.0</td>\n",
       "      <td>37.090240</td>\n",
       "      <td>-95.712891</td>\n",
       "    </tr>\n",
       "    <tr>\n",
       "      <th>3</th>\n",
       "      <td>4</td>\n",
       "      <td>107000</td>\n",
       "      <td>Technology</td>\n",
       "      <td>Larry Ellison</td>\n",
       "      <td>78.0</td>\n",
       "      <td>United States</td>\n",
       "      <td>Lanai</td>\n",
       "      <td>Oracle</td>\n",
       "      <td>Technology</td>\n",
       "      <td>United States</td>\n",
       "      <td>...</td>\n",
       "      <td>7.5</td>\n",
       "      <td>$21,427,700,000,000</td>\n",
       "      <td>88.2</td>\n",
       "      <td>101.8</td>\n",
       "      <td>78.5</td>\n",
       "      <td>9.6</td>\n",
       "      <td>36.6</td>\n",
       "      <td>328239523.0</td>\n",
       "      <td>37.090240</td>\n",
       "      <td>-95.712891</td>\n",
       "    </tr>\n",
       "    <tr>\n",
       "      <th>4</th>\n",
       "      <td>5</td>\n",
       "      <td>106000</td>\n",
       "      <td>Finance &amp; Investments</td>\n",
       "      <td>Warren Buffett</td>\n",
       "      <td>92.0</td>\n",
       "      <td>United States</td>\n",
       "      <td>Omaha</td>\n",
       "      <td>Berkshire Hathaway</td>\n",
       "      <td>Finance &amp; Investments</td>\n",
       "      <td>United States</td>\n",
       "      <td>...</td>\n",
       "      <td>7.5</td>\n",
       "      <td>$21,427,700,000,000</td>\n",
       "      <td>88.2</td>\n",
       "      <td>101.8</td>\n",
       "      <td>78.5</td>\n",
       "      <td>9.6</td>\n",
       "      <td>36.6</td>\n",
       "      <td>328239523.0</td>\n",
       "      <td>37.090240</td>\n",
       "      <td>-95.712891</td>\n",
       "    </tr>\n",
       "  </tbody>\n",
       "</table>\n",
       "<p>5 rows × 35 columns</p>\n",
       "</div>"
      ],
      "text/plain": [
       "   rank  finalWorth               category                personName   age  \\\n",
       "0     1      211000       Fashion & Retail  Bernard Arnault & family  74.0   \n",
       "1     2      180000             Automotive                 Elon Musk  51.0   \n",
       "2     3      114000             Technology                Jeff Bezos  59.0   \n",
       "3     4      107000             Technology             Larry Ellison  78.0   \n",
       "4     5      106000  Finance & Investments            Warren Buffett  92.0   \n",
       "\n",
       "         country    city              source             industries  \\\n",
       "0         France   Paris                LVMH       Fashion & Retail   \n",
       "1  United States  Austin       Tesla, SpaceX             Automotive   \n",
       "2  United States  Medina              Amazon             Technology   \n",
       "3  United States   Lanai              Oracle             Technology   \n",
       "4  United States   Omaha  Berkshire Hathaway  Finance & Investments   \n",
       "\n",
       "  countryOfCitizenship  ... cpi_change_country           gdp_country  \\\n",
       "0               France  ...                1.1   $2,715,518,274,227    \n",
       "1        United States  ...                7.5  $21,427,700,000,000    \n",
       "2        United States  ...                7.5  $21,427,700,000,000    \n",
       "3        United States  ...                7.5  $21,427,700,000,000    \n",
       "4        United States  ...                7.5  $21,427,700,000,000    \n",
       "\n",
       "  gross_tertiary_education_enrollment  \\\n",
       "0                                65.6   \n",
       "1                                88.2   \n",
       "2                                88.2   \n",
       "3                                88.2   \n",
       "4                                88.2   \n",
       "\n",
       "  gross_primary_education_enrollment_country life_expectancy_country  \\\n",
       "0                                      102.5                    82.5   \n",
       "1                                      101.8                    78.5   \n",
       "2                                      101.8                    78.5   \n",
       "3                                      101.8                    78.5   \n",
       "4                                      101.8                    78.5   \n",
       "\n",
       "  tax_revenue_country_country total_tax_rate_country population_country  \\\n",
       "0                        24.2                   60.7         67059887.0   \n",
       "1                         9.6                   36.6        328239523.0   \n",
       "2                         9.6                   36.6        328239523.0   \n",
       "3                         9.6                   36.6        328239523.0   \n",
       "4                         9.6                   36.6        328239523.0   \n",
       "\n",
       "  latitude_country longitude_country  \n",
       "0        46.227638          2.213749  \n",
       "1        37.090240        -95.712891  \n",
       "2        37.090240        -95.712891  \n",
       "3        37.090240        -95.712891  \n",
       "4        37.090240        -95.712891  \n",
       "\n",
       "[5 rows x 35 columns]"
      ]
     },
     "execution_count": 360,
     "metadata": {},
     "output_type": "execute_result"
    }
   ],
   "source": [
    "# Now I will look at the different columns, dtypes, and shape of dataframe\n",
    "df.head()"
   ]
  },
  {
   "cell_type": "code",
   "execution_count": 362,
   "id": "4258cf46-133e-4064-a835-ba8c025b47d4",
   "metadata": {},
   "outputs": [
    {
     "data": {
      "text/plain": [
       "Index(['rank', 'finalWorth', 'category', 'personName', 'age', 'country',\n",
       "       'city', 'source', 'industries', 'countryOfCitizenship', 'organization',\n",
       "       'selfMade', 'status', 'gender', 'birthDate', 'lastName', 'firstName',\n",
       "       'title', 'date', 'state', 'residenceStateRegion', 'birthYear',\n",
       "       'birthMonth', 'birthDay', 'cpi_country', 'cpi_change_country',\n",
       "       'gdp_country', 'gross_tertiary_education_enrollment',\n",
       "       'gross_primary_education_enrollment_country', 'life_expectancy_country',\n",
       "       'tax_revenue_country_country', 'total_tax_rate_country',\n",
       "       'population_country', 'latitude_country', 'longitude_country'],\n",
       "      dtype='object')"
      ]
     },
     "execution_count": 362,
     "metadata": {},
     "output_type": "execute_result"
    }
   ],
   "source": [
    "df.columns"
   ]
  },
  {
   "cell_type": "code",
   "execution_count": 364,
   "id": "2c63bf21-0b83-47db-83d4-ddb37f339e78",
   "metadata": {},
   "outputs": [
    {
     "data": {
      "text/plain": [
       "(2640, 35)"
      ]
     },
     "execution_count": 364,
     "metadata": {},
     "output_type": "execute_result"
    }
   ],
   "source": [
    "df.shape"
   ]
  },
  {
   "cell_type": "code",
   "execution_count": 366,
   "id": "c9e1a67b-39f2-4281-a6e6-252b312637f9",
   "metadata": {},
   "outputs": [
    {
     "data": {
      "text/plain": [
       "rank                                            int64\n",
       "finalWorth                                      int64\n",
       "category                                       object\n",
       "personName                                     object\n",
       "age                                           float64\n",
       "country                                        object\n",
       "city                                           object\n",
       "source                                         object\n",
       "industries                                     object\n",
       "countryOfCitizenship                           object\n",
       "organization                                   object\n",
       "selfMade                                         bool\n",
       "status                                         object\n",
       "gender                                         object\n",
       "birthDate                                      object\n",
       "lastName                                       object\n",
       "firstName                                      object\n",
       "title                                          object\n",
       "date                                           object\n",
       "state                                          object\n",
       "residenceStateRegion                           object\n",
       "birthYear                                     float64\n",
       "birthMonth                                    float64\n",
       "birthDay                                      float64\n",
       "cpi_country                                   float64\n",
       "cpi_change_country                            float64\n",
       "gdp_country                                    object\n",
       "gross_tertiary_education_enrollment           float64\n",
       "gross_primary_education_enrollment_country    float64\n",
       "life_expectancy_country                       float64\n",
       "tax_revenue_country_country                   float64\n",
       "total_tax_rate_country                        float64\n",
       "population_country                            float64\n",
       "latitude_country                              float64\n",
       "longitude_country                             float64\n",
       "dtype: object"
      ]
     },
     "execution_count": 366,
     "metadata": {},
     "output_type": "execute_result"
    }
   ],
   "source": [
    "df.dtypes"
   ]
  },
  {
   "cell_type": "markdown",
   "id": "97e08d3c-c18d-47ba-a0eb-111e5d790f63",
   "metadata": {},
   "source": [
    "## **Preprocessing the Data**\n",
    "Before performing any analysis, we need to ensure the data is clean and usable. While the majority of the column titles are already cleaned, we will still follow some data cleaning steps to remove unnecessary data:\n",
    "\n",
    "- Dropping columns that don’t provide valuable information\n",
    "- Dealing with null values"
   ]
  },
  {
   "cell_type": "code",
   "execution_count": 369,
   "id": "19c708bd-faa6-47c0-8d62-e2343b907516",
   "metadata": {},
   "outputs": [],
   "source": [
    "# We can drop these columns because they are not useful for solving our 2 questions\n",
    "df.drop(columns=[\n",
    "    \"rank\", \"personName\", \"firstName\", \"lastName\", \"birthDate\", \"birthYear\", \"birthMonth\", \"birthDay\",\n",
    "    \"city\", \"state\", \"residenceStateRegion\", \"organization\", \"title\", \"date\", \"latitude_country\", \"longitude_country\",\n",
    "    \"source\", \"finalWorth\", \"gdp_country\", \"tax_revenue_country_country\", \"total_tax_rate_country\",\n",
    "    \"gross_primary_education_enrollment_country\", \"life_expectancy_country\"\n",
    "], inplace=True)"
   ]
  },
  {
   "cell_type": "code",
   "execution_count": 371,
   "id": "443de821-da48-4a8e-a833-7360ff274519",
   "metadata": {},
   "outputs": [
    {
     "data": {
      "text/plain": [
       "category                                 0\n",
       "age                                     65\n",
       "country                                 38\n",
       "industries                               0\n",
       "countryOfCitizenship                     0\n",
       "selfMade                                 0\n",
       "status                                   0\n",
       "gender                                   0\n",
       "cpi_country                            184\n",
       "cpi_change_country                     184\n",
       "gross_tertiary_education_enrollment    182\n",
       "population_country                     164\n",
       "dtype: int64"
      ]
     },
     "execution_count": 371,
     "metadata": {},
     "output_type": "execute_result"
    }
   ],
   "source": [
    "df.isnull().sum()"
   ]
  },
  {
   "cell_type": "code",
   "execution_count": 373,
   "id": "f62154c9-fba2-4d63-987c-41209b01ac0e",
   "metadata": {},
   "outputs": [],
   "source": [
    "# Country is an important column for our questions and we need to their values. \n",
    "# We could try to fill our missing values with a median average but we want to accuratly display countries.\n",
    "df.dropna(subset=[\"country\"], inplace=True)"
   ]
  },
  {
   "cell_type": "markdown",
   "id": "fb574aaf-7c2f-49f1-ad4d-578c7a10b5a3",
   "metadata": {},
   "source": [
    "## **Data Understanding & Visualization**\n",
    "To uncover trends in billionaire wealth, we will create **data visualizations**:\n",
    "\n",
    "**Key Questions We Hope to Answer:**\n",
    "1. What industries create the most **self-made** billionaires?  \n",
    "2. Do **certain countries** produce more billionaires **(self-made vs inherited)** than others?"
   ]
  },
  {
   "cell_type": "code",
   "execution_count": 376,
   "id": "c6adbe50-2bd9-4bc0-899d-e8ccea224ac1",
   "metadata": {},
   "outputs": [
    {
     "data": {
      "image/png": "[encoded data removed]",
      "text/plain": [
       "<Figure size 1200x600 with 1 Axes>"
      ]
     },
     "metadata": {},
     "output_type": "display_data"
    }
   ],
   "source": [
    "# Bar plot compares industries and their number of self-made billionaires\n",
    "# Counting the number of self-made billionaires in each industry\n",
    "industry_counts = df[df[\"selfMade\"] == True][\"category\"].value_counts()\n",
    "\n",
    "# X-axis: Number of self-made billionaires in each industry\n",
    "# Y-axis: Industry categories\n",
    "plt.figure(figsize=(12, 6))\n",
    "sns.barplot(x=industry_counts.values, y=industry_counts.index)\n",
    "plt.xlabel(\"Number of Self-Made Billionaires\")\n",
    "plt.ylabel(\"Industry\")\n",
    "plt.title(\"Industries with the Most Self-Made Billionaires\")\n",
    "plt.show()\n"
   ]
  },
  {
   "cell_type": "markdown",
   "id": "3470d5f5-8e13-4e54-9349-f422afcb6f0d",
   "metadata": {},
   "source": [
    "This graph clearly shows that the most dominant industries, with over 150 billionaires, are Technology, Finance & Investments, and Manufacturing. On the other hand, industries like Service, Logistics, Telecom, Sports, Construction & Engineering, and Gambling & Casinos have significantly lower counts, with only about 25 to 40 billionaires in each industry. These findings confirm the stock market bias, as most stocks related to tech, finance, and manufacturing perform well in the S&P 500. Therefore, it’s expected that many CEOs or entrepreneurs are heavily invested in these related industries."
   ]
  },
  {
   "cell_type": "code",
   "execution_count": 379,
   "id": "07a1b980-949b-47f8-83c3-0aff6a4fcf2a",
   "metadata": {},
   "outputs": [
    {
     "data": {
      "image/png": "[encoded data removed]",
      "text/plain": [
       "<Figure size 1400x600 with 1 Axes>"
      ]
     },
     "metadata": {},
     "output_type": "display_data"
    }
   ],
   "source": [
    "# This bar plot compares self-made vs. inherited wealth for the top 10 countries\n",
    "# Most of the other countries had relatively low billionaire counts, So I focused on the top 10 which improves the bar plots fit.\n",
    "\n",
    "# Finding top 10 countries by total number of billionaires\n",
    "top_countries = country_counts.sum(axis=1).head(10)\n",
    "top_country_counts = country_counts.loc[top_countries.index]\n",
    "\n",
    "# Used y1 and y2 to stack both inherited and self-made billionares by country\n",
    "x = top_country_counts.index\n",
    "y1 = top_country_counts[False] \n",
    "y2 = top_country_counts[True] \n",
    "plt.figure(figsize=(14, 6))\n",
    "plt.bar(x, y1, color='r')\n",
    "plt.bar(x, y2, bottom=y1, color='b') \n",
    "# refrenced this site for help with stacking bar plots https://www.geeksforgeeks.org/create-a-stacked-bar-plot-in-matplotlib/\n",
    "\n",
    "plt.xlabel(\"Country\")\n",
    "plt.ylabel(\"Number of Billionaires\")\n",
    "plt.title(\"Comparison of Self-Made vs. Inherited Billionaires by Country\")\n",
    "plt.legend([\"Inherited\", \"Self-Made\"])\n",
    "plt.show()\n"
   ]
  },
  {
   "cell_type": "markdown",
   "id": "3abf898d-a29a-4517-98f8-22ba50b07210",
   "metadata": {},
   "source": [
    "Here we can see that the United States and China outperform most other countries, with around 70 and 500 billionaires. India, Germany, and Russia follow, but each has fewer than 200 billionaires."
   ]
  },
  {
   "cell_type": "markdown",
   "id": "091879a4-1b81-47da-9fc4-734148c326eb",
   "metadata": {},
   "source": [
    "## **Findings & Storytelling**\n",
    "\n",
    "#### Industries with the Most Self-Made Billionaires\n",
    "From an industry perspective, technology emerges as the leading sector for self-made billionaires, emphasizing its growing influence as AI becomes a major focus. Finance and investments follow closely, showcasing the wealth-generation potential in managing capital and private equity. Although AI could shift the distribution of billionaire industries even further in the future, it might also help other industries grow significantly once they figure out how to implement it effectively.\n",
    "\n",
    "#### Comparison of Self-Made vs. Inherited Billionaires by Country\n",
    "The U.S. has the highest number of self-made billionaires, showing a strong entrepreneurial culture and many opportunities for wealth creation. However, it also leads in inherited wealth, which makes sense given the significant generational wealth carried by a few prominent families. In contrast, most billionaires in China are self-made, highlighting the country's rapid economic growth and the opportunities for business in sectors like technology and manufacturing. Russia, although having fewer billionaires compared to the United States and China, still has a notable count of around 100, with very few inherited billionaires. This indicates that generational wealth is not as common in Russia.\n",
    "\n"
   ]
  },
  {
   "cell_type": "markdown",
   "id": "abed31ce-2c39-44e5-9ab7-a232bb0cd054",
   "metadata": {},
   "source": [
    "## **Impact**\n",
    "This analysis highlights global and industry wealth distribution, showcasing how sectors like technology, finance, and manufacturing drive wealth creation and inspire entrepreneurs. The positive impact of these findings and visualizations is that they can help investors, entrepreneurs, and companies identify industries more likely to generate wealth, aiding in financial decision-making. However, this study focuses on the top percentage of wealthy individuals in the world and may not provide much help for the average individual.\n",
    "\n",
    "For the average person, this analysis can help identify industries they are passionate about and potentially pursue careers in, with the hope of climbing the ladder toward financial freedom. It also emphasizes how economic trends and entrepreneurial opportunities in certain countries and industries can influence individual success. "
   ]
  },
  {
   "cell_type": "markdown",
   "id": "bf334a44-0d27-45f2-9bbf-237775e96532",
   "metadata": {},
   "source": [
    "## **Challenges**\n",
    "This was a very fun dataset to work with, as it provided an opportunity to explore the differences in financial gain, whether someone inherited their wealth through heritage or built it by founding a company. It inspires future entrepreneurs like me to keep striving toward creating something impactful and meaningful. However, it was challenging to find a meaningful impact because most people wont touch anything close to a billion dollars due to wealth distribution inequality amongst the global population. "
   ]
  },
  {
   "cell_type": "code",
   "execution_count": null,
   "id": "9f1a90f5-7ea3-44be-bc65-7516087a5053",
   "metadata": {},
   "outputs": [],
   "source": []
  },
  {
   "cell_type": "code",
   "execution_count": null,
   "id": "52379692-8d9c-40eb-8454-a46fa0eaab00",
   "metadata": {},
   "outputs": [],
   "source": []
  }
 ],
 "metadata": {
  "kernelspec": {
   "display_name": "Python [conda env:DataMining]",
   "language": "python",
   "name": "conda-env-DataMining-py"
  },
  "language_info": {
   "codemirror_mode": {
    "name": "ipython",
    "version": 3
   },
   "file_extension": ".py",
   "mimetype": "text/x-python",
   "name": "python",
   "nbconvert_exporter": "python",
   "pygments_lexer": "ipython3",
   "version": "3.12.8"
  }
 },
 "nbformat": 4,
 "nbformat_minor": 5
}
